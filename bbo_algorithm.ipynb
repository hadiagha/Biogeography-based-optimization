{
 "cells": [
  {
   "cell_type": "markdown",
   "metadata": {},
   "source": [
    "Theory:\n",
    "\n",
    "Based on animals population in an ecosystem.\n",
    "\n",
    "Habitat Suitability index - > if population is high, HSI is high. This is the objective function. \n",
    "\n",
    "Probability of migration is high in high population ecosystem. THe less population, the high migratibility. \n",
    "\n",
    "Immigration (to) import (I)\n",
    "\n",
    "Emigration (from) export (E)\n",
    "\n",
    "Smax is the highest HSI\n",
    "\n",
    "Emigration Rate (Mu)\n",
    "\n",
    "Immigration Rate (Lambda)\n",
    "\n",
    "SIV -> Suitability index Variable - > like chromosomes in Genetic Algorithm.\n",
    "\n",
    "BBO Algorithm Steps:\n",
    "\n",
    "        1- Produce a set of randomized biography population (Initial population) and sort.\n",
    "        2- Determine mu and lambda based on rank of biography population.\n",
    "        3- For each biography place repeat:\n",
    "                4- for each SIV like k in biography place i do:\n",
    "                        5- with lambda i prob, changes will apply in xik.\n",
    "                                6- Determine origin of immigration by mu and randomized -> j.\n",
    "                                7- do the immigration from xjk to xik.\n",
    "                                8- with certain probability mutation will be applied on xik.\n",
    "\n",
    "        9- Evaluate mew achieved biography places.\n",
    "        10- Merge original population and migrated driven population and create new population for new iteration (Merge,Sort and Truncate populations, or predefined shares.)\n",
    "        11- If end criteria is not met yet, return to the step 3.\n",
    "\n"
   ]
  },
  {
   "cell_type": "code",
   "execution_count": 16,
   "metadata": {},
   "outputs": [],
   "source": [
    "#Import libraries\n",
    "import numpy as np\n",
    "import numpy.matlib\n",
    "import pandas as pd"
   ]
  },
  {
   "cell_type": "code",
   "execution_count": 29,
   "metadata": {},
   "outputs": [],
   "source": [
    "#function definition to be optimized\n",
    "def sphere(x):\n",
    "    return sum(np.power(x,2))"
   ]
  },
  {
   "cell_type": "code",
   "execution_count": 47,
   "metadata": {},
   "outputs": [],
   "source": [
    "#Problem Definition\n",
    "\n",
    "varSize = 5     #number of decision variables\n",
    "varMin = -10    #decision variable lower bound\n",
    "varMax = 10     #decision variable upper bound\n",
    "\n",
    "def costFunction(x):\n",
    "    return sphere(x)\n"
   ]
  },
  {
   "cell_type": "code",
   "execution_count": 7,
   "metadata": {},
   "outputs": [],
   "source": [
    "#BBo Parameters\n",
    "maxIt = 100     #maximum number od iteration\n",
    "nPop = 50       #number of habitats (population size)\n",
    "keepRate = 0.2  #Keep Rate\n",
    "nKeep = round(keepRate * nPop,0)  #number of kept habitats\n",
    "nNew = nPop - nKeep     #Number of new habitats\n",
    "\n",
    "#Migration Rate\n",
    "mu = np.linspace(1,0,nPop)  #Emigration Rates\n",
    "lambdas = 1- mu     #immigration Rates\n",
    "\n",
    "alpha = 0.9\n",
    "pMutation = 0.1\n",
    "sigma = 0.02 * (varMax - varMin)\n"
   ]
  },
  {
   "cell_type": "code",
   "execution_count": 51,
   "metadata": {},
   "outputs": [],
   "source": [
    "#Initialization\n",
    "\n",
    "#Habitat\n",
    "popHabitat_positions  = []\n",
    "popHabitat_costs  = []\n",
    "for i in range(nPop):\n",
    "    position = np.random.uniform(varMin,varMax,varSize).tolist()\n",
    "    popHabitat_positions.append(position)\n",
    "\n",
    "    cost = costFunction(position)\n",
    "    popHabitat_costs.append(cost)"
   ]
  },
  {
   "cell_type": "code",
   "execution_count": 53,
   "metadata": {},
   "outputs": [
    {
     "data": {
      "text/plain": [
       "[7.3389426783584035,\n",
       " -7.206786903682561,\n",
       " 4.04286863060727,\n",
       " -6.798268395104811,\n",
       " -4.736087762015737]"
      ]
     },
     "execution_count": 53,
     "metadata": {},
     "output_type": "execute_result"
    }
   ],
   "source": []
  }
 ],
 "metadata": {
  "interpreter": {
   "hash": "565423ac280d6ee0d4b588e8221b48607d6a5d11f40b7022a89b60ca718d28fd"
  },
  "kernelspec": {
   "display_name": "Python 3.10.4 ('rl_env')",
   "language": "python",
   "name": "python3"
  },
  "language_info": {
   "codemirror_mode": {
    "name": "ipython",
    "version": 3
   },
   "file_extension": ".py",
   "mimetype": "text/x-python",
   "name": "python",
   "nbconvert_exporter": "python",
   "pygments_lexer": "ipython3",
   "version": "3.10.4"
  },
  "orig_nbformat": 4
 },
 "nbformat": 4,
 "nbformat_minor": 2
}
