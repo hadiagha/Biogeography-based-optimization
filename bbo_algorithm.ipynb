{
 "cells": [
  {
   "cell_type": "markdown",
   "metadata": {},
   "source": [
    "Theory:\n",
    "\n",
    "Based on animals population in an ecosystem.\n",
    "\n",
    "Habitat Suitability index - > if population is high, HSI is high. This is the objective function. \n",
    "\n",
    "Probability of migration is high in high population ecosystem. THe less population, the high migratibility. \n",
    "\n",
    "Immigration (to) import (I)\n",
    "\n",
    "Emigration (from) export (E)\n",
    "\n",
    "Smax is the highest HSI\n",
    "\n",
    "Emigration Rate (Mu)\n",
    "\n",
    "Immigration Rate (Lambda)\n",
    "\n",
    "SIV -> Suitability index Variable - > like chromosomes in Genetic Algorithm.\n",
    "\n",
    "BBO Algorithm Steps:\n",
    "\n",
    "        1- Produce a set of randomized biography population (Initial population) and sort.\n",
    "        2- Determine mu and lambda based on rank of biography population.\n",
    "        3- For each biography place repeat:\n",
    "                4- for each SIV like k in biography place i do:\n",
    "                        5- with lambda i prob, changes will apply in xik.\n",
    "                                6- Determine origin of immigration by mu and randomized -> j.\n",
    "                                7- do the immigration from xjk to xik.\n",
    "                                8- with certain probability mutation will be applied on xik.\n",
    "\n",
    "        9- Evaluate mew achieved biography places.\n",
    "        10- Merge original population and migrated driven population and create new population for new iteration (Merge,Sort and Truncate populations, or predefined shares.)\n",
    "        11- If end criteria is not met yet, return to the step 3.\n",
    "\n"
   ]
  },
  {
   "cell_type": "code",
   "execution_count": 120,
   "metadata": {},
   "outputs": [],
   "source": [
    "#Import libraries\n",
    "import numpy as np\n",
    "import random as rd\n",
    "import matplotlib.pyplot as plt"
   ]
  },
  {
   "cell_type": "code",
   "execution_count": 121,
   "metadata": {},
   "outputs": [],
   "source": [
    "#function definition to be optimized\n",
    "def sphere(x):\n",
    "    return sum(np.power(x,2))"
   ]
  },
  {
   "cell_type": "code",
   "execution_count": 122,
   "metadata": {},
   "outputs": [],
   "source": [
    "#Problem Definition\n",
    "\n",
    "varSize = 5     #number of decision variables\n",
    "varMin = -10    #decision variable lower bound\n",
    "varMax = 10     #decision variable upper bound\n",
    "\n",
    "def costFunction(x):\n",
    "    return sphere(x)\n"
   ]
  },
  {
   "cell_type": "code",
   "execution_count": 144,
   "metadata": {},
   "outputs": [],
   "source": [
    "#BBo Parameters\n",
    "maxIt = 100     #maximum number od iteration\n",
    "nPop = 50       #number of habitats (population size)\n",
    "keepRate = 0.2  #Keep Rate\n",
    "nKeep = int(round(keepRate * nPop,0))  #number of kept habitats\n",
    "nNew = int(nPop - nKeep  )   #Number of new habitats\n",
    "\n",
    "#Migration Rate\n",
    "mu = np.linspace(1,0,nPop)  #Emigration Rates\n",
    "lambdas = 1- mu     #immigration Rates\n",
    "\n",
    "alpha = 0.9\n",
    "pMutation = 0.1\n",
    "sigma = 0.02 * (varMax - varMin)\n"
   ]
  },
  {
   "cell_type": "code",
   "execution_count": 145,
   "metadata": {},
   "outputs": [],
   "source": [
    "#Initialization\n",
    "\n",
    "#Habitat\n",
    "popHabitat_positions  = []\n",
    "popHabitat_costs  = []\n",
    "for i in range(nPop):\n",
    "    position = np.random.uniform(varMin,varMax,varSize).tolist()\n",
    "    popHabitat_positions.append(position)\n",
    "\n",
    "    cost = costFunction(position)\n",
    "    popHabitat_costs.append(cost)\n",
    "\n",
    "#SortPopulation\n",
    "sortOrder = np.argsort(popHabitat_costs)\n",
    "popHabitat_positions = [popHabitat_positions[x] for x in sortOrder]\n",
    "popHabitat_costs = [popHabitat_costs[x] for x in sortOrder]\n",
    "\n",
    "#Best Solution ever found\n",
    "bestSol_position = popHabitat_positions[0]\n",
    "bestSol_cost = popHabitat_costs[0]\n",
    "\n",
    "#List of best costs in iteration\n",
    "BestCost = []\n"
   ]
  },
  {
   "cell_type": "code",
   "execution_count": 146,
   "metadata": {},
   "outputs": [],
   "source": [
    "def roulettWheelSelection(P):\n",
    "    rNum = rd.random()\n",
    "    C = np.cumsum(P)\n",
    "    return min(np.where(rNum <= C)[0])"
   ]
  },
  {
   "cell_type": "code",
   "execution_count": 147,
   "metadata": {},
   "outputs": [
    {
     "name": "stdout",
     "output_type": "stream",
     "text": [
      "Iteration 0: Best Cost = 9.140315955975602\n",
      "Iteration 1: Best Cost = 6.663526892563899\n",
      "Iteration 2: Best Cost = 2.8702192445835077\n",
      "Iteration 3: Best Cost = 2.1388278469889226\n",
      "Iteration 4: Best Cost = 1.8194763010284534\n",
      "Iteration 5: Best Cost = 1.3226363810547184\n",
      "Iteration 6: Best Cost = 1.2154086516946196\n",
      "Iteration 7: Best Cost = 0.3817072124465942\n",
      "Iteration 8: Best Cost = 0.3563069801824131\n",
      "Iteration 9: Best Cost = 0.8482313866404947\n",
      "Iteration 10: Best Cost = 1.3739036251403678\n",
      "Iteration 11: Best Cost = 0.7433984386947095\n",
      "Iteration 12: Best Cost = 0.9449437260865884\n",
      "Iteration 13: Best Cost = 0.57561108161929\n",
      "Iteration 14: Best Cost = 0.48711575852412464\n",
      "Iteration 15: Best Cost = 0.283400730068642\n",
      "Iteration 16: Best Cost = 1.0675330255582633\n",
      "Iteration 17: Best Cost = 0.7891661945112051\n",
      "Iteration 18: Best Cost = 0.9530516484837691\n",
      "Iteration 19: Best Cost = 0.5885061215055407\n",
      "Iteration 20: Best Cost = 0.5885061215055407\n",
      "Iteration 21: Best Cost = 0.665481054403772\n",
      "Iteration 22: Best Cost = 0.46746728461042064\n",
      "Iteration 23: Best Cost = 0.8603588475175689\n",
      "Iteration 24: Best Cost = 0.3993049942856775\n",
      "Iteration 25: Best Cost = 0.8086579646170524\n",
      "Iteration 26: Best Cost = 0.11607640607642952\n",
      "Iteration 27: Best Cost = 0.07864487835532499\n",
      "Iteration 28: Best Cost = 1.4280045728076476\n",
      "Iteration 29: Best Cost = 6.061713832987715\n"
     ]
    }
   ],
   "source": [
    "#BBo Main loop\n",
    "# sourcery skip: remove-str-from-print\n",
    "for it in range(maxIt):\n",
    "    #Migration\n",
    "    newPopPosition = popHabitat_positions\n",
    "    newPopCost = popHabitat_costs\n",
    "    for i in range(nPop):\n",
    "        for k in range(varSize):\n",
    "            if rd.random() <= lambdas[i]:\n",
    "                # Emigration probabilities\n",
    "                E_prob = mu\n",
    "                E_prob[i] = 0\n",
    "                E_prob = E_prob / sum(E_prob)\n",
    "                #Select source habitat\n",
    "                j = roulettWheelSelection(E_prob)\n",
    "\n",
    "                #Migration Rule\n",
    "                newPopPosition[i][k] = popHabitat_positions[i][k] + alpha * (popHabitat_positions[j][k] - newPopPosition[i][k])\n",
    "\n",
    "            #Mutation\n",
    "            if rd.random() <= pMutation:\n",
    "                newPopPosition[i][k] = newPopPosition[i][k] + sigma * np.random.normal(0,1,1)[0]\n",
    "\n",
    "        #Evaluation\n",
    "        newPopCost[i] = costFunction(newPopPosition[i])\n",
    "\n",
    "    #Sort new Population\n",
    "    sortOrderNew = np.argsort(newPopCost)\n",
    "    newPopPosition = [newPopPosition[x] for x in sortOrderNew]\n",
    "    newPopCost = [newPopCost[x] for x in sortOrderNew]\n",
    "\n",
    "    #Select next iteration population\n",
    "    popHabitat_positions = popHabitat_positions[:nKeep] + newPopPosition[:nNew]\n",
    "    popHabitat_costs = popHabitat_costs[:nKeep] + newPopCost[:nNew]\n",
    "\n",
    "    #SortPopulation\n",
    "    sortOrder = np.argsort(popHabitat_costs)\n",
    "    popHabitat_positions = [popHabitat_positions[x] for x in sortOrder]\n",
    "    popHabitat_costs = [popHabitat_costs[x] for x in sortOrder]\n",
    "\n",
    "    #Update best solution ever found\n",
    "    bestSol_position = popHabitat_positions[0]\n",
    "    bestSol_cost = popHabitat_costs[0]\n",
    "\n",
    "    #Store Best Cost ever Found\n",
    "    BestCost.append(bestSol_cost)\n",
    "\n",
    "    #Show Iteration Information\n",
    "    print(str('Iteration ' + str(it) +\": Best Cost = \" + str(BestCost[it])))\n"
   ]
  },
  {
   "cell_type": "code",
   "execution_count": 148,
   "metadata": {},
   "outputs": [
    {
     "data": {
      "image/png": "[encoded data removed]",
      "text/plain": [
       "<Figure size 1080x720 with 1 Axes>"
      ]
     },
     "metadata": {
      "needs_background": "light"
     },
     "output_type": "display_data"
    }
   ],
   "source": [
    "#Plot the cost results\n",
    "plt.figure(figsize=(15, 10))\n",
    "plt.plot(BestCost, 'ro-', label='Cost Results', linewidth=3, markersize=3)\n",
    "plt.title('Results for BBO Algorithm')\n",
    "plt.ylabel('Best Cost')\n",
    "plt.xlabel('Iteration')\n",
    "plt.show()"
   ]
  }
 ],
 "metadata": {
  "interpreter": {
   "hash": "565423ac280d6ee0d4b588e8221b48607d6a5d11f40b7022a89b60ca718d28fd"
  },
  "kernelspec": {
   "display_name": "Python 3.10.4 ('rl_env')",
   "language": "python",
   "name": "python3"
  },
  "language_info": {
   "codemirror_mode": {
    "name": "ipython",
    "version": 3
   },
   "file_extension": ".py",
   "mimetype": "text/x-python",
   "name": "python",
   "nbconvert_exporter": "python",
   "pygments_lexer": "ipython3",
   "version": "3.10.4"
  },
  "orig_nbformat": 4
 },
 "nbformat": 4,
 "nbformat_minor": 2
}
