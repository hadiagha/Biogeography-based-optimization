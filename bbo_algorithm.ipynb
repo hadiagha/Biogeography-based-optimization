{
 "cells": [
  {
   "cell_type": "markdown",
   "metadata": {},
   "source": [
    "Theory:\n",
    "\n",
    "Based on animals population in an ecosystem.\n",
    "\n",
    "Habitat Suitability index - > if population is high, HSI is high. This is the objective function. \n",
    "\n",
    "Probability of migration is high in high population ecosystem. THe less population, the high migratibility. \n",
    "\n",
    "Immigration (to) import (I)\n",
    "\n",
    "Emigration (from) export (E)\n",
    "\n",
    "Smax is the highest HSI\n",
    "\n",
    "Emigration Rate (Mu)\n",
    "\n",
    "Immigration Rate (Lambda)\n",
    "\n",
    "SIV -> Suitability index Variable - > like chromosomes in Genetic Algorithm.\n",
    "\n",
    "BBO Algorithm Steps:\n",
    "\n",
    "        1- Produce a set of randomized biography population (Initial population) and sort.\n",
    "        2- Determine mu and lambda based on rank of biography population.\n",
    "        3- For each biography place repeat:\n",
    "                4- for each SIV like k in biography place i do:\n",
    "                        5- with lambda i prob, changes will apply in xik.\n",
    "                                6- Determine origin of immigration by mu and randomized -> j.\n",
    "                                7- do the immigration from xjk to xik.\n",
    "                                8- with certain probability mutation will be applied on xik.\n",
    "\n",
    "        9- Evaluate mew achieved biography places.\n",
    "        10- Merge original population and migrated driven population and create new population for new iteration (Merge,Sort and Truncate populations, or predefined shares.)\n",
    "        11- If end criteria is not met yet, return to the step 3.\n",
    "\n"
   ]
  },
  {
   "cell_type": "code",
   "execution_count": null,
   "metadata": {},
   "outputs": [],
   "source": [
    "#Problem definition\n"
   ]
  }
 ],
 "metadata": {
  "interpreter": {
   "hash": "565423ac280d6ee0d4b588e8221b48607d6a5d11f40b7022a89b60ca718d28fd"
  },
  "kernelspec": {
   "display_name": "Python 3.10.4 ('rl_env')",
   "language": "python",
   "name": "python3"
  },
  "language_info": {
   "name": "python",
   "version": "3.10.4"
  },
  "orig_nbformat": 4
 },
 "nbformat": 4,
 "nbformat_minor": 2
}
